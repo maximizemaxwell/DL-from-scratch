{
 "cells": [
  {
   "cell_type": "markdown",
   "id": "b2683d3c-a79c-4acf-a3ef-065d7a56554b",
   "metadata": {},
   "source": [
    "# chp4 신경망학습\n",
    "\n",
    "- 학습: 훈련 데이터로부터 가중치 매개변수의 최적값을 자동으로 획득하는 것\n",
    "- 지표: loss function\n"
   ]
  },
  {
   "cell_type": "markdown",
   "id": "d7fb111c-39d5-4e56-8c8a-b2947432c187",
   "metadata": {},
   "source": [
    "# 1. 데이터 학습\n",
    "\n",
    "## 1-1. 데이터 주도 학습\n",
    "\n",
    "특징 추출 -> 패턴 인식 -> 기계학습\n",
    "\n",
    "\n"
   ]
  },
  {
   "cell_type": "code",
   "execution_count": null,
   "id": "9303a6ee-4577-4feb-8711-928fa0d27c20",
   "metadata": {},
   "outputs": [],
   "source": []
  },
  {
   "cell_type": "code",
   "execution_count": null,
   "id": "2a7525fc-2aca-4202-b501-7a89f66541c3",
   "metadata": {},
   "outputs": [],
   "source": []
  },
  {
   "cell_type": "code",
   "execution_count": null,
   "id": "996f147a-9fe6-40f0-befe-4b9be1ef7f1a",
   "metadata": {},
   "outputs": [],
   "source": []
  },
  {
   "cell_type": "code",
   "execution_count": null,
   "id": "bbaea29e-11ed-49b9-884f-2876e931e301",
   "metadata": {},
   "outputs": [],
   "source": []
  },
  {
   "cell_type": "code",
   "execution_count": null,
   "id": "9b8dab20-1428-4fda-9489-d9eb31eb468b",
   "metadata": {},
   "outputs": [],
   "source": []
  },
  {
   "cell_type": "code",
   "execution_count": null,
   "id": "73a3540a-190c-4456-a3b9-a47373df73de",
   "metadata": {},
   "outputs": [],
   "source": []
  }
 ],
 "metadata": {
  "kernelspec": {
   "display_name": "Python 3 (ipykernel)",
   "language": "python",
   "name": "python3"
  },
  "language_info": {
   "codemirror_mode": {
    "name": "ipython",
    "version": 3
   },
   "file_extension": ".py",
   "mimetype": "text/x-python",
   "name": "python",
   "nbconvert_exporter": "python",
   "pygments_lexer": "ipython3",
   "version": "3.11.9"
  }
 },
 "nbformat": 4,
 "nbformat_minor": 5
}
