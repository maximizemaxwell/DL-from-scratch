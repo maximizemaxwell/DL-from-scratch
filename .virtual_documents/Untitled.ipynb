











# 간단한 계단 함수
# x에 실수만 가능
def step_function(x):
    if x > 0:
        return 1
    else: 
        return 0


# 넘파이 배열 지원
import numpy as np
def step_function(x):
    y = x > 0
    return y.astype(np.int)
# 넘파이 배열에 부등호 연산 수행->원소 각각에 부등호 연산을 수행한 bool배열 생성


# 계단 함수의 그래프
import numpy as np
import matplotlib.pylab as plt
def step_function(x):
    return np.array(x > 0, dtype=int)
x = np.arange(-5.0, 5.0, 0.1)
y = step_function(x)
plt.plot(x, y)
plt.ylim(-0.1, 1.1)
plt.show()








def sigmoid(x):
    return 1 / (1 + np.exp(-x))
x = np.array([-1.0, 1.0, 2.0])
sigmoid(x)


# 시그모이드 함수의 그래프
x = np.arange(-5.0, 5.0, 0.1)
y = sigmoid(x)
plt.plot(x,y)
plt.ylim(-0.1, 1.1)
plt.show()





x = np.arange(-5.0, 5.0, 0.1)
y = step_function(x)
z = sigmoid(x)
plt.plot(x,y)
plt.plot(x,z)
plt.ylim(-0.1, 1.1)
plt.show()











# ReLU 구현
def relu(x):
    return np.maximum(0, x) # maximum: 두 입력값 중 큰 값을 반환





import numpy as np
A = np.array([1,2,3,4])
print(A)
print(np.ndim(A)) # 배열의 차원 수
print(A.shape) # 배열의 형상
print(A.shape[0])


B = np.array([[1,2], [3,4], [5,6]])
print(B)
print(np.ndim(B))
print(B.shape)
print(B.shape[0], B.shape[1])


### 행렬의 곱
A = np.array([[1,2], [3,4]])
B = np.array([[5,6], [7,8]])
print(np.dot(A, B))















