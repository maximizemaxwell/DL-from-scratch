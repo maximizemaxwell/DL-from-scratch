











# 간단한 계단 함수
# x에 실수만 가능
def step_function(x):
    if x > 0:
        return 1
    else: 
        return 0


# 넘파이 배열 지원
import numpy as np
def step_function(x):
    y = x > 0
    return y.astype(np.int)
# 넘파이 배열에 부등호 연산 수행->원소 각각에 부등호 연산을 수행한 bool배열 생성


# 계단 함수의 그래프
import numpy as np
import matplotlib.pylab as plt
def step_function(x):
    return np.array(x > 0, dtype=int)
x = np.arange(-5.0, 5.0, 0.1)
y = step_function(x)
plt.plot(x, y)
plt.ylim(-0.1, 1.1)
plt.show()








def sigmoid(x):
    return 1 / (1 + np.exp(-x))
x = np.array([-1.0, 1.0, 2.0])
sigmoid(x)


# 시그모이드 함수의 그래프
x = np.arange(-5.0, 5.0, 0.1)
y = sigmoid(x)
plt.plot(x,y)
plt.ylim(-0.1, 1.1)
plt.show()





x = np.arange(-5.0, 5.0, 0.1)
y = step_function(x)
z = sigmoid(x)
plt.plot(x,y)
plt.plot(x,z)
plt.ylim(-0.1, 1.1)
plt.show()











# ReLU 구현
def relu(x):
    return np.maximum(0, x) # maximum: 두 입력값 중 큰 값을 반환





import numpy as np
A = np.array([1,2,3,4])
print(A)
print(np.ndim(A)) # 배열의 차원 수
print(A.shape) # 배열의 형상
print(A.shape[0])


B = np.array([[1,2], [3,4], [5,6]])
print(B)
print(np.ndim(B))
print(B.shape)
print(B.shape[0], B.shape[1])


### 행렬의 곱
A = np.array([[1,2], [3,4]])
B = np.array([[5,6], [7,8]])
print(np.dot(A, B))





X = np.array([1, 2])
W = np.array([[1,3,5], [2,4,6]])
Y = np.dot(X, W)
print(Y)








# 식 구현
X = np.array([1.0, 0.5])
W1 = np.array([[0.1, 0.3, 0.5], [0.2, 0.4, 0.6]])
B1 = np.array([0.1, 0.2, 0.3])
print(W1.shape)
print(X.shape)
print(B1.shape)
A1 = np.dot(X, W1) + B1
print(A1)


Z1 = sigmoid(A1)
print(A1, Z1)





W2 = np.array([[0.1,0.4], [0.2,0.5], [0.3, 0.6]])
B2 = np.array([0.1,0.2])
print(Z1.shape)
print(W2.shape)
print(B2.shape)
A2 = np.dot(Z1, W2) + B2
Z2 = sigmoid(A2)





def identity_function(x):
    return x
W3 = np.array([[0.1, 0.3], [0.2, 0.4]])
B3 = np.array([0.1, 0.2])
A3 = np.dot(Z2, W3) + B3
Y = identity_function(A3)
print(Y)





# 가중치, 편향 초기화 함수
def init_network():
    network = {}
    network['W1'] = np.array([[0.1,0.3,0.5], [0.2,0.4,0.6]])
    network['b1'] = np.array([0.1,0.2,0.3])
    network['W2'] = np.array([[0.1,0.4], [0.2,0.5], [0.3, 0.6]])
    network['b2'] = np.array([0.1,0.2])
    network['W3'] = np.array([[0.1,0.3],[0.2,0.4]])
    network['b3'] = np.array([0.1,0.2])
    return network

# 입력 신호를 출력으로 변환 처리하는 함수
def forward(network, x):
    W1, W2, W3 = network['W1'], network['W2'], network['W3']
    b1, b2, b3 = network['b1'], network['b2'], network['b3']

    a1 = np.dot(x, W1) + b1
    z1 = sigmoid(a1)
    a2 = np.dot(z1, W2) + b2
    z2 = sigmoid(a2)
    a3 = np.dot(z2, W3) + b3
    y = identity_function(a3)
    return y

network = init_network()
x = np.array([1.0, 0.5])
y = forward(network, x)
print(y)











# 소프트맥스 함수 구현
# 별거없음. 그냥 식 쓰면 됨...
a = np.array([0.3, 2.9, 4.0])
exp_a = np.exp(a)
print(exp_a)
sum_exp_a = np.sum(exp_a)
print(sum_exp_a)
y = exp_a / sum_exp_a
print(y)


# 함수화
def softmax(a):
    exp_a = np.exp(a)
    sum_exp_a = np.sum(exp_a)
    y = exp_a / sum_exp_a
    return y





a = np.array([1010, 1000, 990])
res = np.exp(a) / np.sum(np.exp(a))
print(res) # 망한다.


c = np.max(a)
print(a - c) # 제대로 계산이 된다









